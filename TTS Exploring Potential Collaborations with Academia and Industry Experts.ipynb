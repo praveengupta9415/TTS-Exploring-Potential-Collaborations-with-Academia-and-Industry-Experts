{
 "cells": [
  {
   "cell_type": "code",
   "execution_count": 1,
   "id": "fb4d620d",
   "metadata": {},
   "outputs": [
    {
     "data": {
      "text/html": [
       "<div>\n",
       "<style scoped>\n",
       "    .dataframe tbody tr th:only-of-type {\n",
       "        vertical-align: middle;\n",
       "    }\n",
       "\n",
       "    .dataframe tbody tr th {\n",
       "        vertical-align: top;\n",
       "    }\n",
       "\n",
       "    .dataframe thead th {\n",
       "        text-align: right;\n",
       "    }\n",
       "</style>\n",
       "<table border=\"1\" class=\"dataframe\">\n",
       "  <thead>\n",
       "    <tr style=\"text-align: right;\">\n",
       "      <th></th>\n",
       "      <th>customer_id</th>\n",
       "      <th>name</th>\n",
       "      <th>email</th>\n",
       "      <th>purchase_amount</th>\n",
       "      <th>purchase_date</th>\n",
       "      <th>product_category</th>\n",
       "    </tr>\n",
       "  </thead>\n",
       "  <tbody>\n",
       "    <tr>\n",
       "      <th>0</th>\n",
       "      <td>CUST00001</td>\n",
       "      <td>Jesse Davis</td>\n",
       "      <td>johnfarmer@example.com</td>\n",
       "      <td>772.15</td>\n",
       "      <td>2024-07-25</td>\n",
       "      <td>Books</td>\n",
       "    </tr>\n",
       "    <tr>\n",
       "      <th>1</th>\n",
       "      <td>CUST00002</td>\n",
       "      <td>Peter Ferrell</td>\n",
       "      <td>lmartinez@example.com</td>\n",
       "      <td>552.96</td>\n",
       "      <td>2024-05-25</td>\n",
       "      <td>Home</td>\n",
       "    </tr>\n",
       "    <tr>\n",
       "      <th>2</th>\n",
       "      <td>CUST00003</td>\n",
       "      <td>Stacey Wells</td>\n",
       "      <td>ejones@example.com</td>\n",
       "      <td>802.21</td>\n",
       "      <td>2024-03-15</td>\n",
       "      <td>Clothing</td>\n",
       "    </tr>\n",
       "    <tr>\n",
       "      <th>3</th>\n",
       "      <td>CUST00004</td>\n",
       "      <td>David Powell</td>\n",
       "      <td>kelly69@example.org</td>\n",
       "      <td>34.75</td>\n",
       "      <td>2024-02-04</td>\n",
       "      <td>Books</td>\n",
       "    </tr>\n",
       "    <tr>\n",
       "      <th>4</th>\n",
       "      <td>CUST00005</td>\n",
       "      <td>Renee Ellis</td>\n",
       "      <td>gerald71@example.com</td>\n",
       "      <td>808.14</td>\n",
       "      <td>2024-08-11</td>\n",
       "      <td>Groceries</td>\n",
       "    </tr>\n",
       "  </tbody>\n",
       "</table>\n",
       "</div>"
      ],
      "text/plain": [
       "  customer_id           name                   email  purchase_amount  \\\n",
       "0   CUST00001    Jesse Davis  johnfarmer@example.com           772.15   \n",
       "1   CUST00002  Peter Ferrell   lmartinez@example.com           552.96   \n",
       "2   CUST00003   Stacey Wells      ejones@example.com           802.21   \n",
       "3   CUST00004   David Powell     kelly69@example.org            34.75   \n",
       "4   CUST00005    Renee Ellis    gerald71@example.com           808.14   \n",
       "\n",
       "  purchase_date product_category  \n",
       "0    2024-07-25            Books  \n",
       "1    2024-05-25             Home  \n",
       "2    2024-03-15         Clothing  \n",
       "3    2024-02-04            Books  \n",
       "4    2024-08-11        Groceries  "
      ]
     },
     "execution_count": 1,
     "metadata": {},
     "output_type": "execute_result"
    }
   ],
   "source": [
    "import pandas as pd\n",
    "import numpy as np\n",
    "from faker import Faker\n",
    "import random\n",
    "\n",
    "# Initialize Faker for generating fake data\n",
    "fake = Faker()\n",
    "\n",
    "# Define number of entries\n",
    "num_entries = 100\n",
    "\n",
    "# Generate dataset\n",
    "data = pd.DataFrame({\n",
    "    'customer_id': ['CUST' + str(i+1).zfill(5) for i in range(num_entries)],\n",
    "    'name': [fake.name() for _ in range(num_entries)],                # Fake customer names\n",
    "    'email': [fake.email() for _ in range(num_entries)],              # Fake email addresses\n",
    "    'purchase_amount': np.round(np.random.uniform(10, 1000, num_entries), 2),  # Random purchase amounts\n",
    "    'purchase_date': [fake.date_between(start_date='-1y', end_date='today') for _ in range(num_entries)],  # Dates within the last year\n",
    "    'product_category': [random.choice(['Electronics', 'Clothing', 'Books', 'Groceries', 'Home']) for _ in range(num_entries)]\n",
    "})\n",
    "\n",
    "# Display the first few rows of the dataset\n",
    "data.head()\n"
   ]
  },
  {
   "cell_type": "code",
   "execution_count": null,
   "id": "032d402f",
   "metadata": {},
   "outputs": [],
   "source": []
  },
  {
   "cell_type": "code",
   "execution_count": null,
   "id": "9df61b96",
   "metadata": {},
   "outputs": [],
   "source": [
    "\n"
   ]
  },
  {
   "cell_type": "code",
   "execution_count": 5,
   "id": "bb7f3cd4",
   "metadata": {},
   "outputs": [
    {
     "data": {
      "text/html": [
       "<div>\n",
       "<style scoped>\n",
       "    .dataframe tbody tr th:only-of-type {\n",
       "        vertical-align: middle;\n",
       "    }\n",
       "\n",
       "    .dataframe tbody tr th {\n",
       "        vertical-align: top;\n",
       "    }\n",
       "\n",
       "    .dataframe thead th {\n",
       "        text-align: right;\n",
       "    }\n",
       "</style>\n",
       "<table border=\"1\" class=\"dataframe\">\n",
       "  <thead>\n",
       "    <tr style=\"text-align: right;\">\n",
       "      <th></th>\n",
       "      <th>customer_id</th>\n",
       "      <th>name</th>\n",
       "      <th>email</th>\n",
       "      <th>purchase_amount</th>\n",
       "      <th>purchase_date</th>\n",
       "    </tr>\n",
       "  </thead>\n",
       "  <tbody>\n",
       "    <tr>\n",
       "      <th>0</th>\n",
       "      <td>1</td>\n",
       "      <td>Alice</td>\n",
       "      <td>alice@example.com</td>\n",
       "      <td>45.445419</td>\n",
       "      <td>2023-01-31</td>\n",
       "    </tr>\n",
       "    <tr>\n",
       "      <th>1</th>\n",
       "      <td>2</td>\n",
       "      <td>Bob</td>\n",
       "      <td>bob@example.com</td>\n",
       "      <td>216.656872</td>\n",
       "      <td>2023-02-28</td>\n",
       "    </tr>\n",
       "    <tr>\n",
       "      <th>2</th>\n",
       "      <td>3</td>\n",
       "      <td>Charlie</td>\n",
       "      <td>charlie@example.com</td>\n",
       "      <td>106.049780</td>\n",
       "      <td>2023-03-31</td>\n",
       "    </tr>\n",
       "    <tr>\n",
       "      <th>3</th>\n",
       "      <td>4</td>\n",
       "      <td>David</td>\n",
       "      <td>david@example.com</td>\n",
       "      <td>437.202585</td>\n",
       "      <td>2023-04-30</td>\n",
       "    </tr>\n",
       "    <tr>\n",
       "      <th>4</th>\n",
       "      <td>5</td>\n",
       "      <td>Eve</td>\n",
       "      <td>eve@example.com</td>\n",
       "      <td>33.637118</td>\n",
       "      <td>2023-05-31</td>\n",
       "    </tr>\n",
       "  </tbody>\n",
       "</table>\n",
       "</div>"
      ],
      "text/plain": [
       "   customer_id     name                email  purchase_amount purchase_date\n",
       "0            1    Alice    alice@example.com        45.445419    2023-01-31\n",
       "1            2      Bob      bob@example.com       216.656872    2023-02-28\n",
       "2            3  Charlie  charlie@example.com       106.049780    2023-03-31\n",
       "3            4    David    david@example.com       437.202585    2023-04-30\n",
       "4            5      Eve      eve@example.com        33.637118    2023-05-31"
      ]
     },
     "execution_count": 5,
     "metadata": {},
     "output_type": "execute_result"
    }
   ],
   "source": [
    "import pandas as pd\n",
    "import numpy as np\n",
    "\n",
    "# Load sample data (replace 'sample_data.csv' with your actual dataset)\n",
    "# Assume this is a customer transaction dataset with sensitive information\n",
    "try:\n",
    "    data = pd.read_csv('sample_data.csv')\n",
    "except FileNotFoundError:\n",
    "    # Create a sample dataset if you don't have one\n",
    "    data = pd.DataFrame({\n",
    "        'customer_id': np.arange(1, 11),\n",
    "        'name': ['Alice', 'Bob', 'Charlie', 'David', 'Eve', 'Frank', 'Grace', 'Hannah', 'Isaac', 'Jack'],\n",
    "        'email': ['alice@example.com', 'bob@example.com', 'charlie@example.com', 'david@example.com', 'eve@example.com', \n",
    "                  'frank@example.com', 'grace@example.com', 'hannah@example.com', 'isaac@example.com', 'jack@example.com'],\n",
    "        'purchase_amount': np.random.uniform(20, 500, 10),\n",
    "        'purchase_date': pd.date_range(start='2023-01-01', periods=10, freq='M')\n",
    "    })\n",
    "\n",
    "data.head()\n"
   ]
  },
  {
   "cell_type": "code",
   "execution_count": 6,
   "id": "4e9822ae",
   "metadata": {},
   "outputs": [],
   "source": [
    "# Anonymize Sensitive Data"
   ]
  },
  {
   "cell_type": "code",
   "execution_count": 7,
   "id": "482f973c",
   "metadata": {},
   "outputs": [
    {
     "data": {
      "text/html": [
       "<div>\n",
       "<style scoped>\n",
       "    .dataframe tbody tr th:only-of-type {\n",
       "        vertical-align: middle;\n",
       "    }\n",
       "\n",
       "    .dataframe tbody tr th {\n",
       "        vertical-align: top;\n",
       "    }\n",
       "\n",
       "    .dataframe thead th {\n",
       "        text-align: right;\n",
       "    }\n",
       "</style>\n",
       "<table border=\"1\" class=\"dataframe\">\n",
       "  <thead>\n",
       "    <tr style=\"text-align: right;\">\n",
       "      <th></th>\n",
       "      <th>customer_id</th>\n",
       "      <th>purchase_amount</th>\n",
       "      <th>purchase_date</th>\n",
       "    </tr>\n",
       "  </thead>\n",
       "  <tbody>\n",
       "    <tr>\n",
       "      <th>0</th>\n",
       "      <td>CUST1</td>\n",
       "      <td>45.445419</td>\n",
       "      <td>2023-01-31</td>\n",
       "    </tr>\n",
       "    <tr>\n",
       "      <th>1</th>\n",
       "      <td>CUST2</td>\n",
       "      <td>216.656872</td>\n",
       "      <td>2023-02-28</td>\n",
       "    </tr>\n",
       "    <tr>\n",
       "      <th>2</th>\n",
       "      <td>CUST3</td>\n",
       "      <td>106.049780</td>\n",
       "      <td>2023-03-31</td>\n",
       "    </tr>\n",
       "    <tr>\n",
       "      <th>3</th>\n",
       "      <td>CUST4</td>\n",
       "      <td>437.202585</td>\n",
       "      <td>2023-04-30</td>\n",
       "    </tr>\n",
       "    <tr>\n",
       "      <th>4</th>\n",
       "      <td>CUST5</td>\n",
       "      <td>33.637118</td>\n",
       "      <td>2023-05-31</td>\n",
       "    </tr>\n",
       "  </tbody>\n",
       "</table>\n",
       "</div>"
      ],
      "text/plain": [
       "  customer_id  purchase_amount purchase_date\n",
       "0       CUST1        45.445419    2023-01-31\n",
       "1       CUST2       216.656872    2023-02-28\n",
       "2       CUST3       106.049780    2023-03-31\n",
       "3       CUST4       437.202585    2023-04-30\n",
       "4       CUST5        33.637118    2023-05-31"
      ]
     },
     "execution_count": 7,
     "metadata": {},
     "output_type": "execute_result"
    }
   ],
   "source": [
    "# Drop or anonymize sensitive columns (e.g., names and emails)\n",
    "data = data.drop(columns=['name', 'email'])\n",
    "data['customer_id'] = 'CUST' + data['customer_id'].astype(str)  # Mask customer IDs\n",
    "\n",
    "# Show the anonymized data\n",
    "data.head()\n"
   ]
  },
  {
   "cell_type": "code",
   "execution_count": null,
   "id": "eecd0846",
   "metadata": {},
   "outputs": [],
   "source": [
    "# Save Anonymized Data for Sharing"
   ]
  },
  {
   "cell_type": "code",
   "execution_count": 8,
   "id": "a3576cb6",
   "metadata": {},
   "outputs": [
    {
     "name": "stdout",
     "output_type": "stream",
     "text": [
      "Anonymized data saved as 'anonymized_data.csv'\n"
     ]
    }
   ],
   "source": [
    "# Save anonymized data for sharing with collaborators\n",
    "data.to_csv('anonymized_data.csv', index=False)\n",
    "print(\"Anonymized data saved as 'anonymized_data.csv'\")\n"
   ]
  },
  {
   "cell_type": "code",
   "execution_count": 3,
   "id": "f782ef74",
   "metadata": {},
   "outputs": [
    {
     "name": "stdout",
     "output_type": "stream",
     "text": [
      "  customer_id  purchase_amount purchase_date\n",
      "0       CUST1        45.445419    2023-01-31\n",
      "1       CUST2       216.656872    2023-02-28\n",
      "2       CUST3       106.049780    2023-03-31\n",
      "3       CUST4       437.202585    2023-04-30\n",
      "4       CUST5        33.637118    2023-05-31\n",
      "5       CUST6       351.912292    2023-06-30\n",
      "6       CUST7       246.876709    2023-07-31\n",
      "7       CUST8       313.934855    2023-08-31\n",
      "8       CUST9       377.118913    2023-09-30\n",
      "9      CUST10        94.174128    2023-10-31\n"
     ]
    }
   ],
   "source": [
    "\n",
    "# Read and display the contents of the saved CSV file\n",
    "data = pd.read_csv('anonymized_data.csv')\n",
    "print(data)"
   ]
  },
  {
   "cell_type": "code",
   "execution_count": null,
   "id": "942cd859",
   "metadata": {},
   "outputs": [],
   "source": []
  },
  {
   "cell_type": "code",
   "execution_count": null,
   "id": "e8331d11",
   "metadata": {},
   "outputs": [],
   "source": []
  },
  {
   "cell_type": "code",
   "execution_count": null,
   "id": "656322c0",
   "metadata": {},
   "outputs": [],
   "source": []
  },
  {
   "cell_type": "code",
   "execution_count": null,
   "id": "b8775517",
   "metadata": {},
   "outputs": [],
   "source": [
    "\n"
   ]
  },
  {
   "cell_type": "code",
   "execution_count": null,
   "id": "0982fcdc",
   "metadata": {},
   "outputs": [],
   "source": [
    "\n"
   ]
  },
  {
   "cell_type": "code",
   "execution_count": null,
   "id": "5de5e306",
   "metadata": {},
   "outputs": [],
   "source": [
    "\n"
   ]
  },
  {
   "cell_type": "code",
   "execution_count": null,
   "id": "0e7b876f",
   "metadata": {},
   "outputs": [],
   "source": []
  }
 ],
 "metadata": {
  "kernelspec": {
   "display_name": "Python 3 (ipykernel)",
   "language": "python",
   "name": "python3"
  },
  "language_info": {
   "codemirror_mode": {
    "name": "ipython",
    "version": 3
   },
   "file_extension": ".py",
   "mimetype": "text/x-python",
   "name": "python",
   "nbconvert_exporter": "python",
   "pygments_lexer": "ipython3",
   "version": "3.10.13"
  }
 },
 "nbformat": 4,
 "nbformat_minor": 5
}
